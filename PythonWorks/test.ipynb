{
 "cells": [
  {
   "cell_type": "markdown",
   "id": "f096d4eb-d73a-4986-943c-25c1c3200f32",
   "metadata": {},
   "source": [
    "# Python実行環境のテスト"
   ]
  },
  {
   "cell_type": "markdown",
   "id": "f6035781-0cda-4d7e-be8e-a0e46f969565",
   "metadata": {},
   "source": [
    "　この Notebook は、農研機構メッシュ農業気象データシステムの利用設定が正しく行われたかを確認するためのものです。\n",
    " 以下、4つのCode Cell を順次実行すると、茨城県つくば市館野における最近の気温データを取得し、その推移を折れ線グラフにして表示するとともに、それを画像のPNGファイルとして作成します。"
   ]
  },
  {
   "cell_type": "markdown",
   "id": "bc0e1198-99da-47f1-9e6d-e8e81d233c24",
   "metadata": {
    "jp-MarkdownHeadingCollapsed": true
   },
   "source": [
    "### 1 ライブラリーのインポート\n",
    "メッシュ農業気象データを利用するのに必要なライブラリをインポートします。気象データの折れ線作成には使用しないライブラリについても、インストール確認のためインポートしています。\n",
    "\n",
    "　エラーが表示されなければOKです。\n",
    " * 図で日本語を使用したい場合は、**AMD_Tools4.pyの89-90行目**のコメントアウトを外して有効にしてください。その際、コメントをよく読みOSの違いにご注意ください。"
   ]
  },
  {
   "cell_type": "code",
   "execution_count": null,
   "id": "cc23dd2f-5f16-47a3-b464-79ff3d1bcf69",
   "metadata": {
    "tags": []
   },
   "outputs": [],
   "source": [
    "# モジュールのインポート\n",
    "import numpy as np\n",
    "from datetime import datetime, timedelta\n",
    "import matplotlib.pyplot as plt\n",
    "import matplotlib.dates as md\n",
    "import AMD_Tools4 as amd\n",
    "import xarray as xr\n",
    "import pandas as pd"
   ]
  },
  {
   "cell_type": "markdown",
   "id": "225f65d1-b4d4-4320-902f-7d8ea0f68e26",
   "metadata": {
    "jp-MarkdownHeadingCollapsed": true
   },
   "source": [
    "### 2 取得する気象データの時空間領域の設定\n",
    "　AMGSDSにリクエストする気象データの気象要素、空間領域、期間を設定します。プログラムを実行した日の前後64日間の日付をプログラムで自動生成するので若干複雑になっています。\n",
    "\n",
    " エラーが表示されなければOKです。"
   ]
  },
  {
   "cell_type": "code",
   "execution_count": null,
   "id": "5f80bf45-2a97-404a-a8c1-1aff74981aa4",
   "metadata": {
    "tags": []
   },
   "outputs": [],
   "source": [
    "# 計算の領域と期間の指定\n",
    "nani = \"TMP_mea\"\n",
    "doko = [ 36.0566, 36.0566, 140.125, 140.125]\t#つくば(舘野)\n",
    "p = datetime.today()\t\t\t\t#今日の時刻オブジェクト\n",
    "db = p - timedelta(days=64)\t\t#期間の始まり、今日-days\n",
    "de = p + timedelta(days=64)\t\t#期間の終わり、今日+days\n",
    "date_begin = db.strftime(\"%Y-%m-%d\")\n",
    "date_end   = de.strftime(\"%Y-%m-%d\")\n",
    "itsu = [ date_begin, date_end ]"
   ]
  },
  {
   "cell_type": "markdown",
   "id": "370b262c-5094-424d-9a9a-2c5b94579aea",
   "metadata": {
    "jp-MarkdownHeadingCollapsed": true
   },
   "source": [
    "### 3 気象データの読み込み\n",
    "ライブラリ AMD_Tools3 が提供する関数 **GetMetData** の引数にデータ取得範囲他を与えて、AMGDSDのデータ配信サーバから所定の気象データを取得します。気象値と平年値を取得するので関数は2回使われています。\n",
    "\n",
    "　実行後、少し時間をおいて、以下が表示されればOKです。\n",
    "```\n",
    "Cli_TMP_mea (129, 1, 1)\n",
    "TMP_mea (129, 1, 1)\n",
    "```\n"
   ]
  },
  {
   "cell_type": "code",
   "execution_count": null,
   "id": "618da4ed-9720-4311-8bbe-44248d7ba6a9",
   "metadata": {},
   "outputs": [],
   "source": [
    "# メッシュデータの取得\n",
    "T0, tim, lat, lon = amd.GetMetData(nani, itsu, doko, cli=True)\n",
    "T1, tim, lat, lon, nam, uni = amd.GetMetData(nani, itsu, doko, namuni=True)\n",
    "T0 = T0[:,0,0]\n",
    "T1 = T1[:,0,0]"
   ]
  },
  {
   "cell_type": "markdown",
   "id": "36fca7bd-e7b7-4268-9f5e-405f288cbe90",
   "metadata": {
    "jp-MarkdownHeadingCollapsed": true
   },
   "source": [
    "### 4 折れ線グラフの描画と画像ファイル出力\n",
    "　ライブラリ matplotlib の機能を用いて、取得した気象データの折れ線グラフを作成するとともに、表示した画像をファイルにして出力します。 matplotlib は美しいグラフを作成することができますが、その分、設定項目が多く初心者には難解です。初めての方は理解できなくて構いません。\n",
    " \n",
    "　グラフが表示され、ファイル **result.png** が生成されていればOKです。"
   ]
  },
  {
   "cell_type": "code",
   "execution_count": null,
   "id": "4abadfa1-0cba-4125-a7f0-52fb02b4567f",
   "metadata": {},
   "outputs": [],
   "source": [
    "# 時系列グラフの描画\n",
    "D1D1 = T1\n",
    "D1D2 = T0\n",
    "title = \"N\"+str(doko[0])+\", E\"+str(doko[2])+' ('+p.strftime(\"%Y/%m/%d\")+')'\n",
    "fig = plt.figure(num=None, figsize=(12, 4))\n",
    "# ・目盛の作成\n",
    "ax = plt.axes()\n",
    "xmajoPos = md.DayLocator(bymonthday=[1])\n",
    "xmajoFmt = md.DateFormatter('%m/%d')\n",
    "ax.xaxis.set_major_locator(xmajoPos)\n",
    "ax.xaxis.set_major_formatter(xmajoFmt)\n",
    "xminoPos = md.DayLocator()\n",
    "ax.xaxis.set_minor_locator(xminoPos)\n",
    "# ・データのプロット\n",
    "ax.fill_between(tim,D1D1,D1D2,where=D1D1>D1D2,facecolor='orange',alpha=0.5,interpolate=True)\t#細線より高い部分を橙色に塗る\n",
    "ax.fill_between(tim,D1D2,D1D1,where=D1D1<D1D2,facecolor='skyblue',alpha=0.5,interpolate=True)\t#細線より低い部分を水色に塗る\n",
    "ax.plot(tim, D1D1, 'k') #太線\n",
    "ax.plot(tim, D1D2, 'k', linewidth=0.3) #細線\n",
    "# ・「今日」印を付ける\n",
    "p = datetime.today() #今日の時刻オブジェクト\n",
    "today = tim == datetime(p.year,p.month,p.day,0,0,0) #今日の配列要素番号\n",
    "plt.plot(tim[today], D1D1[today], \"ro\") #今日に赤点を打つ\n",
    "# ・ラベル、タイトルの付加\n",
    "plt.xlabel('Date')\n",
    "plt.ylabel(nam+' [' + uni + ']')\n",
    "plt.title(title)\n",
    "plt.savefig('result'+'.png', dpi=600) #この文をコメントアウトすると、図のpngファイルは作られません。\n",
    "plt.show()\n"
   ]
  }
 ],
 "metadata": {
  "kernelspec": {
   "display_name": "Python 3 (ipykernel)",
   "language": "python",
   "name": "python3"
  },
  "language_info": {
   "codemirror_mode": {
    "name": "ipython",
    "version": 3
   },
   "file_extension": ".py",
   "mimetype": "text/x-python",
   "name": "python",
   "nbconvert_exporter": "python",
   "pygments_lexer": "ipython3",
   "version": "3.10.13"
  }
 },
 "nbformat": 4,
 "nbformat_minor": 5
}
